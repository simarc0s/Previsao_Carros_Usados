{
 "cells": [
  {
   "cell_type": "markdown",
   "metadata": {},
   "source": [
    "# Previsão de Preços de Carros Usados\n",
    "\n",
    "Este notebook implementa algoritmos de Machine Learning para prever os preços de carros usados baseado no dataset fornecido pela competição Kaggle."
   ]
  },
  {
   "cell_type": "code",
   "execution_count": null,
   "metadata": {},
   "outputs": [],
   "source": [
    "# Importar bibliotecas principais\n",
    "import pandas as pd\n",
    "from scripts.preprocessing import preprocess_data\n",
    "from scripts.train_model import train_models\n",
    "from scripts.evaluate import evaluate_model\n",
    "\n",
    "# Carregar os dados\n",
    "train_data = pd.read_csv('data/train.csv') \n",
    "test_data = pd.read_csv('data/test.csv')    \n",
    "\n",
    "# Pré-processamento\n",
    "X_train, y_train, X_test = preprocess_data(train_data, test_data, target_column='price')\n",
    "\n",
    "# Treinamento de modelos\n",
    "models = train_models(X_train, y_train)\n",
    "\n",
    "# Avaliação\n",
    "for model_name, model in models.items():\n",
    "    print(f\"Resultados para o modelo {model_name}:\")\n",
    "    evaluate_model(model, X_train, y_train)\n",
    "\n",
    "# Submissão\n",
    "predictions = models['Random Forest'].predict(X_test)\n",
    "submission = pd.DataFrame({'Id': test_data['Id'], 'price': predictions})\n",
    "submission.to_csv('submission.csv', index=False)\n",
    "print(\"Submissão guardada como 'submission.csv'.\")"
   ]
  }
 ],
 "metadata": {
  "kernelspec": {
   "display_name": "base",
   "language": "python",
   "name": "python3"
  },
  "language_info": {
   "codemirror_mode": {
    "name": "ipython",
    "version": 3
   },
   "file_extension": ".py",
   "mimetype": "text/x-python",
   "name": "python",
   "nbconvert_exporter": "python",
   "pygments_lexer": "ipython3",
   "version": "3.12.7"
  }
 },
 "nbformat": 4,
 "nbformat_minor": 2
}
