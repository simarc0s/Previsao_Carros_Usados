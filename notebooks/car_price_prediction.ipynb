{
 "cells": [
  {
   "cell_type": "markdown",
   "metadata": {},
   "source": [
    "# Previsão de Preços de Carros Usados\n",
    "\n",
    "Este notebook implementa algoritmos de Machine Learning para prever os preços de carros usados baseado no dataset fornecido pela competição Kaggle."
   ]
  },
  {
   "cell_type": "code",
   "execution_count": 4,
   "metadata": {},
   "outputs": [
    {
     "name": "stdout",
     "output_type": "stream",
     "text": [
      "Melhor modelo: Random Forest\n",
      "Parâmetros ótimos: {'max_depth': 10, 'min_samples_leaf': 2, 'min_samples_split': 5, 'n_estimators': 150}\n",
      "Cross-Validated RMSE: 25618.0233\n",
      "\n",
      "Resultados no conjunto de validação:\n",
      "RMSE: 25660.6447\n",
      "R²: 0.4265\n",
      "Submissão guardada como 'submission.csv'.\n"
     ]
    }
   ],
   "source": [
    "import os\n",
    "import sys\n",
    "\n",
    "# Adicionar o diretório base do projeto ao sys.path\n",
    "sys.path.append(os.path.abspath(\"..\"))\n",
    "\n",
    "# Importar bibliotecas principais\n",
    "import pandas as pd\n",
    "\n",
    "from scripts.evaluate import evaluate_model\n",
    "from scripts.preprocessing import preprocess_data\n",
    "from scripts.train_model import train_models\n",
    "\n",
    "# Carregar os dados\n",
    "train_data = pd.read_csv(\"../data/train.csv\")\n",
    "test_data = pd.read_csv(\"../data/test.csv\")\n",
    "\n",
    "# Pré-processamento\n",
    "X_train, y_train, X_val, y_val, X_test = preprocess_data(\n",
    "    train_data, test_data, target_column=\"price\", test_size=0.8\n",
    ")\n",
    "\n",
    "# Treinamento de modelos\n",
    "models = train_models(X_train, y_train)\n",
    "\n",
    "# Encontrar o melhor modelo com base no menor RMSE\n",
    "best_model_name = min(models, key=lambda x: models[x][\"cv_rmse\"])\n",
    "best_model_info = models[best_model_name]\n",
    "best_model = best_model_info[\"model\"]\n",
    "\n",
    "print(f\"Melhor modelo: {best_model_name}\")\n",
    "print(f\"Parâmetros ótimos: {best_model_info.get('best_params', 'N/A')}\")\n",
    "print(f\"Cross-Validated RMSE: {best_model_info['cv_rmse']:.4f}\")\n",
    "\n",
    "# Avaliação do melhor modelo\n",
    "if X_val is not None and y_val is not None:\n",
    "    print(\"\\nResultados no conjunto de validação:\")\n",
    "    evaluate_model(best_model, X_val, y_val)\n",
    "else:\n",
    "    print(\"\\nResultados no conjunto de treino (sem validação):\")\n",
    "    evaluate_model(best_model, X_train, y_train)\n",
    "\n",
    "# Submissão (usando o melhor modelo)\n",
    "predictions = best_model.predict(X_test)\n",
    "submission = pd.DataFrame(\n",
    "    {\n",
    "        \"id\": test_data[\"id\"],\n",
    "        \"price\": predictions,\n",
    "    }\n",
    ")\n",
    "\n",
    "submission.to_csv(\"submission.csv\", index=False)\n",
    "print(\"Submissão guardada como 'submission.csv'.\")"
   ]
  },
  {
   "cell_type": "markdown",
   "metadata": {},
   "source": [
    "# Introdução ao código\n",
    "Esta célula importa as bibliotecas necessárias para realizar a análise e manipulação de dados, a criação de gráficos e a integração de módulos personalizados no projeto. A biblioteca matplotlib e o seaborn serão utilizados posteriormente para criar visualizações dos dados. O caminho relativo do projeto é adicionado ao sys.path para facilitar a importação de módulos."
   ]
  },
  {
   "cell_type": "code",
   "execution_count": 5,
   "metadata": {},
   "outputs": [],
   "source": [
    "# Importação das bibliotecas necessárias\n",
    "import os\n",
    "import sys\n",
    "\n",
    "import matplotlib.pyplot as plt\n",
    "import pandas as pd\n",
    "import seaborn as sns\n",
    "\n",
    "# Adicionar o diretório base do projeto ao sys.path para facilitar a importação de módulos personalizados\n",
    "sys.path.append(os.path.abspath(\"..\"))\n",
    "\n",
    "from scripts.evaluate import evaluate_model\n",
    "from scripts.preprocessing import preprocess_data\n",
    "from scripts.train_model import train_models"
   ]
  },
  {
   "cell_type": "markdown",
   "metadata": {},
   "source": [
    "# Importação Dados\n",
    "\n",
    "Aqui, carregamos os conjuntos de dados de treino e teste. O dataset de treino contém as amostras que usaremos para ajustar os nossos modelos, enquanto o dataset de teste será utilizado para realizar previsões após o treinamento. A função **head()** mostra as primeiras linhas para inspeção inicial."
   ]
  },
  {
   "cell_type": "code",
   "execution_count": 6,
   "metadata": {},
   "outputs": [
    {
     "data": {
      "text/html": [
       "<div>\n",
       "<style scoped>\n",
       "    .dataframe tbody tr th:only-of-type {\n",
       "        vertical-align: middle;\n",
       "    }\n",
       "\n",
       "    .dataframe tbody tr th {\n",
       "        vertical-align: top;\n",
       "    }\n",
       "\n",
       "    .dataframe thead th {\n",
       "        text-align: right;\n",
       "    }\n",
       "</style>\n",
       "<table border=\"1\" class=\"dataframe\">\n",
       "  <thead>\n",
       "    <tr style=\"text-align: right;\">\n",
       "      <th></th>\n",
       "      <th>id</th>\n",
       "      <th>brand</th>\n",
       "      <th>model</th>\n",
       "      <th>model_year</th>\n",
       "      <th>milage</th>\n",
       "      <th>fuel_type</th>\n",
       "      <th>engine</th>\n",
       "      <th>transmission</th>\n",
       "      <th>ext_col</th>\n",
       "      <th>int_col</th>\n",
       "      <th>accident</th>\n",
       "      <th>clean_title</th>\n",
       "      <th>price</th>\n",
       "    </tr>\n",
       "  </thead>\n",
       "  <tbody>\n",
       "    <tr>\n",
       "      <th>0</th>\n",
       "      <td>0</td>\n",
       "      <td>MINI</td>\n",
       "      <td>Cooper S Base</td>\n",
       "      <td>2007</td>\n",
       "      <td>213000</td>\n",
       "      <td>Gasoline</td>\n",
       "      <td>172.0HP 1.6L 4 Cylinder Engine Gasoline Fuel</td>\n",
       "      <td>A/T</td>\n",
       "      <td>Yellow</td>\n",
       "      <td>Gray</td>\n",
       "      <td>None reported</td>\n",
       "      <td>Yes</td>\n",
       "      <td>4200</td>\n",
       "    </tr>\n",
       "    <tr>\n",
       "      <th>1</th>\n",
       "      <td>1</td>\n",
       "      <td>Lincoln</td>\n",
       "      <td>LS V8</td>\n",
       "      <td>2002</td>\n",
       "      <td>143250</td>\n",
       "      <td>Gasoline</td>\n",
       "      <td>252.0HP 3.9L 8 Cylinder Engine Gasoline Fuel</td>\n",
       "      <td>A/T</td>\n",
       "      <td>Silver</td>\n",
       "      <td>Beige</td>\n",
       "      <td>At least 1 accident or damage reported</td>\n",
       "      <td>Yes</td>\n",
       "      <td>4999</td>\n",
       "    </tr>\n",
       "    <tr>\n",
       "      <th>2</th>\n",
       "      <td>2</td>\n",
       "      <td>Chevrolet</td>\n",
       "      <td>Silverado 2500 LT</td>\n",
       "      <td>2002</td>\n",
       "      <td>136731</td>\n",
       "      <td>E85 Flex Fuel</td>\n",
       "      <td>320.0HP 5.3L 8 Cylinder Engine Flex Fuel Capab...</td>\n",
       "      <td>A/T</td>\n",
       "      <td>Blue</td>\n",
       "      <td>Gray</td>\n",
       "      <td>None reported</td>\n",
       "      <td>Yes</td>\n",
       "      <td>13900</td>\n",
       "    </tr>\n",
       "    <tr>\n",
       "      <th>3</th>\n",
       "      <td>3</td>\n",
       "      <td>Genesis</td>\n",
       "      <td>G90 5.0 Ultimate</td>\n",
       "      <td>2017</td>\n",
       "      <td>19500</td>\n",
       "      <td>Gasoline</td>\n",
       "      <td>420.0HP 5.0L 8 Cylinder Engine Gasoline Fuel</td>\n",
       "      <td>Transmission w/Dual Shift Mode</td>\n",
       "      <td>Black</td>\n",
       "      <td>Black</td>\n",
       "      <td>None reported</td>\n",
       "      <td>Yes</td>\n",
       "      <td>45000</td>\n",
       "    </tr>\n",
       "    <tr>\n",
       "      <th>4</th>\n",
       "      <td>4</td>\n",
       "      <td>Mercedes-Benz</td>\n",
       "      <td>Metris Base</td>\n",
       "      <td>2021</td>\n",
       "      <td>7388</td>\n",
       "      <td>Gasoline</td>\n",
       "      <td>208.0HP 2.0L 4 Cylinder Engine Gasoline Fuel</td>\n",
       "      <td>7-Speed A/T</td>\n",
       "      <td>Black</td>\n",
       "      <td>Beige</td>\n",
       "      <td>None reported</td>\n",
       "      <td>Yes</td>\n",
       "      <td>97500</td>\n",
       "    </tr>\n",
       "  </tbody>\n",
       "</table>\n",
       "</div>"
      ],
      "text/plain": [
       "   id          brand              model  model_year  milage      fuel_type  \\\n",
       "0   0           MINI      Cooper S Base        2007  213000       Gasoline   \n",
       "1   1        Lincoln              LS V8        2002  143250       Gasoline   \n",
       "2   2      Chevrolet  Silverado 2500 LT        2002  136731  E85 Flex Fuel   \n",
       "3   3        Genesis   G90 5.0 Ultimate        2017   19500       Gasoline   \n",
       "4   4  Mercedes-Benz        Metris Base        2021    7388       Gasoline   \n",
       "\n",
       "                                              engine  \\\n",
       "0       172.0HP 1.6L 4 Cylinder Engine Gasoline Fuel   \n",
       "1       252.0HP 3.9L 8 Cylinder Engine Gasoline Fuel   \n",
       "2  320.0HP 5.3L 8 Cylinder Engine Flex Fuel Capab...   \n",
       "3       420.0HP 5.0L 8 Cylinder Engine Gasoline Fuel   \n",
       "4       208.0HP 2.0L 4 Cylinder Engine Gasoline Fuel   \n",
       "\n",
       "                     transmission ext_col int_col  \\\n",
       "0                             A/T  Yellow    Gray   \n",
       "1                             A/T  Silver   Beige   \n",
       "2                             A/T    Blue    Gray   \n",
       "3  Transmission w/Dual Shift Mode   Black   Black   \n",
       "4                     7-Speed A/T   Black   Beige   \n",
       "\n",
       "                                 accident clean_title  price  \n",
       "0                           None reported         Yes   4200  \n",
       "1  At least 1 accident or damage reported         Yes   4999  \n",
       "2                           None reported         Yes  13900  \n",
       "3                           None reported         Yes  45000  \n",
       "4                           None reported         Yes  97500  "
      ]
     },
     "execution_count": 6,
     "metadata": {},
     "output_type": "execute_result"
    }
   ],
   "source": [
    "# Carregar os dados\n",
    "train_data = pd.read_csv(\"../data/train.csv\")\n",
    "test_data = pd.read_csv(\"../data/test.csv\")\n",
    "\n",
    "# Visualizar as primeiras linhas dos dados de treino\n",
    "train_data.head()"
   ]
  },
  {
   "cell_type": "markdown",
   "metadata": {},
   "source": [
    "#  Visualização Exploratória de Dados (EDA)\n",
    "\n",
    "Este gráfico mostra a distribuição de preços no conjunto de treino, permitindo verificar se os dados estão concentrados numa faixa específica ou se existem outliers (valores atípicos) que possam afetar os resultados."
   ]
  },
  {
   "cell_type": "code",
   "execution_count": 7,
   "metadata": {},
   "outputs": [
    {
     "data": {
      "image/png": "[encoded data removed]",
      "text/plain": [
       "<Figure size 1000x600 with 1 Axes>"
      ]
     },
     "metadata": {},
     "output_type": "display_data"
    }
   ],
   "source": [
    "import matplotlib.pyplot as plt\n",
    "import pandas as pd\n",
    "import seaborn as sns\n",
    "\n",
    "# Carregar os dados reais\n",
    "train_data = pd.read_csv(\"../data/train.csv\")\n",
    "\n",
    "# Configurar o estilo do gráfico\n",
    "plt.figure(figsize=(10, 6))\n",
    "sns.histplot(\n",
    "    train_data[\"price\"], kde=True, bins=50, color=\"blue\", alpha=0.7, edgecolor=\"black\"\n",
    ")\n",
    "\n",
    "# Adicionar título e rótulos aos eixos\n",
    "plt.title(\"Distribuição de Preços no Conjunto de Treino\", fontsize=14)\n",
    "plt.xlabel(\"Preço\", fontsize=12)\n",
    "plt.ylabel(\"Frequência\", fontsize=12)\n",
    "plt.xlim(0, train_data[\"price\"].quantile(0.95))\n",
    "plt.grid(axis=\"y\", linestyle=\"--\", alpha=0.7)\n",
    "\n",
    "# Exibir o gráfico\n",
    "plt.tight_layout()\n",
    "plt.show()"
   ]
  },
  {
   "cell_type": "markdown",
   "metadata": {},
   "source": [
    "# Pré-processamento dos Dados\n",
    "\n",
    "Este mesmo código aplica o pré-processamento aos dados:\n",
    "\n",
    "- **Trata valores ausentes (missing values):**\n",
    "Lida com dados que estão ausentes no dataset, seja substituindo por valores padrões (como a média ou mediana para números) ou removendo linhas/colunas com valores ausentes.\n",
    "\n",
    "- **Codifica variáveis categóricas:**\n",
    "Converte variáveis categóricas (ex.: brand, fuel_type, etc.) num formato numérico para que os modelos de machine learning possam processá-las (usando técnicas como one-hot encoding ou label encoding).\n",
    "\n",
    "- **Normaliza variáveis numéricas:**\n",
    "Ajusta os valores das variáveis numéricas para que fiquem numa escala padronizada (como [0, 1] ou média 0 e desvio padrão 1). Isso é especialmente útil para algoritmos que são sensíveis a escalas, como regressão linear ou KNN.\n",
    "\n",
    "- **Divide os dados de treino em treino e validação:**\n",
    "80% dos dados para o conjunto de treino.\n",
    "20% dos dados para o conjunto de validação."
   ]
  },
  {
   "cell_type": "code",
   "execution_count": 8,
   "metadata": {},
   "outputs": [
    {
     "name": "stdout",
     "output_type": "stream",
     "text": [
      "Dimensões dos dados:\n",
      "X_train: (37338, 89), y_train: (37338,)\n",
      "X_val: (149355, 89), y_val: (149355,)\n",
      "X_test: (125690, 89)\n"
     ]
    }
   ],
   "source": [
    "# Pré-processamento dos dados\n",
    "X_train, y_train, X_val, y_val, X_test = preprocess_data(\n",
    "    train_data, test_data, target_column=\"price\", test_size=0.8\n",
    ")\n",
    "\n",
    "# Verificar dimensões após o pré-processamento\n",
    "print(\"Dimensões dos dados:\")\n",
    "print(f\"X_train: {X_train.shape}, y_train: {y_train.shape}\")\n",
    "print(f\"X_val: {X_val.shape}, y_val: {y_val.shape}\")\n",
    "print(f\"X_test: {X_test.shape}\")"
   ]
  },
  {
   "cell_type": "markdown",
   "metadata": {},
   "source": [
    "# Treinamento dos Modelos\n",
    "\n",
    "Nesta célula:\n",
    "\n",
    "- **Treinamos três modelos diferentes:** Random Forest, Linear Regression, e KNN.\n",
    "- Avaliamos os modelos usando Cross-Validation (RMSE médio).\n",
    "- Identificamos o modelo com melhor desempenho baseado no menor RMSE."
   ]
  },
  {
   "cell_type": "code",
   "execution_count": 9,
   "metadata": {},
   "outputs": [
    {
     "name": "stdout",
     "output_type": "stream",
     "text": [
      "Melhor modelo: Random Forest\n",
      "Parâmetros ótimos: {'max_depth': 10, 'min_samples_leaf': 2, 'min_samples_split': 5, 'n_estimators': 150}\n",
      "Cross-Validated RMSE: 25618.0233\n"
     ]
    }
   ],
   "source": [
    "# Treinamento de diferentes modelos\n",
    "models = train_models(X_train, y_train)\n",
    "\n",
    "# Verificar o modelo com melhor desempenho\n",
    "best_model_name = min(models, key=lambda x: models[x][\"cv_rmse\"])\n",
    "best_model_info = models[best_model_name]\n",
    "best_model = best_model_info[\"model\"]\n",
    "\n",
    "print(f\"Melhor modelo: {best_model_name}\")\n",
    "print(f\"Parâmetros ótimos: {best_model_info.get('best_params', 'N/A')}\")\n",
    "print(f\"Cross-Validated RMSE: {best_model_info['cv_rmse']:.4f}\")"
   ]
  },
  {
   "cell_type": "markdown",
   "metadata": {},
   "source": [
    "# Avaliação do Melhor Modelo\n",
    "\n",
    "Nesta etapa, avaliamos o modelo escolhido no conjunto de validação. Os resultados incluem:\n",
    "\n",
    "- **RMSE:** Erro médio quadrático na validação.\n",
    "- **R²:** Percentagem de variação explicada pelo modelo."
   ]
  },
  {
   "cell_type": "code",
   "execution_count": 10,
   "metadata": {},
   "outputs": [
    {
     "name": "stdout",
     "output_type": "stream",
     "text": [
      "\n",
      "Resultados no conjunto de validação:\n",
      "RMSE: 25660.6447\n",
      "R²: 0.4265\n"
     ]
    }
   ],
   "source": [
    "# Avaliar o melhor modelo no conjunto de validação\n",
    "if X_val is not None and y_val is not None:\n",
    "    print(\"\\nResultados no conjunto de validação:\")\n",
    "    evaluate_model(best_model, X_val, y_val)\n",
    "else:\n",
    "    print(\"\\nResultados no conjunto de treino (sem validação):\")\n",
    "    evaluate_model(best_model, X_train, y_train)"
   ]
  },
  {
   "cell_type": "markdown",
   "metadata": {},
   "source": [
    "# Visualização dos Resultados\n",
    "\n",
    "Criamos um gráfico para comparar o desempenho dos modelos. Quanto menor o RMSE, melhor a performance do modelo."
   ]
  },
  {
   "cell_type": "code",
   "execution_count": 11,
   "metadata": {},
   "outputs": [
    {
     "data": {
      "image/png": "[encoded data removed]",
      "text/plain": [
       "<Figure size 1000x600 with 1 Axes>"
      ]
     },
     "metadata": {},
     "output_type": "display_data"
    }
   ],
   "source": [
    "import warnings\n",
    "\n",
    "import matplotlib.pyplot as plt\n",
    "import seaborn as sns\n",
    "\n",
    "# Desativa os avisos\n",
    "warnings.filterwarnings(\"ignore\", category=FutureWarning)\n",
    "\n",
    "# Comparação dos modelos com base no RMSE\n",
    "model_names = list(models.keys())\n",
    "rmse_values = [models[model][\"cv_rmse\"] for model in model_names]\n",
    "\n",
    "plt.figure(figsize=(10, 6))\n",
    "sns.barplot(x=model_names, y=rmse_values, palette=\"viridis\")\n",
    "plt.title(\"Comparação de RMSE entre Modelos\")\n",
    "plt.ylabel(\"RMSE (Cross-Validation)\")\n",
    "plt.xlabel(\"Modelos\")\n",
    "plt.show()"
   ]
  },
  {
   "cell_type": "markdown",
   "metadata": {},
   "source": [
    "# Fazer Previsões e Criar Submissão\n",
    "\n",
    "O modelo escolhido é usado para prever os preços no conjunto de teste, e os resultados são guardados em um ficheiro CSV para submissão."
   ]
  },
  {
   "cell_type": "code",
   "execution_count": 12,
   "metadata": {},
   "outputs": [
    {
     "name": "stdout",
     "output_type": "stream",
     "text": [
      "Submissão guardada como 'submission.csv'.\n"
     ]
    }
   ],
   "source": [
    "# Fazer previsões no conjunto de teste usando o melhor modelo\n",
    "predictions = best_model.predict(X_test)\n",
    "\n",
    "# Criar o ficheiro de submissão\n",
    "submission = pd.DataFrame(\n",
    "    {\n",
    "        \"id\": test_data[\"id\"],\n",
    "        \"price\": predictions,\n",
    "    }\n",
    ")\n",
    "\n",
    "# Guardar o ficheiro de submissão\n",
    "submission.to_csv(\"submission.csv\", index=False)\n",
    "print(\"Submissão guardada como 'submission.csv'.\")"
   ]
  },
  {
   "cell_type": "markdown",
   "metadata": {},
   "source": [
    "# Melhor pontuação na Leaderboard do Kaggle"
   ]
  },
  {
   "cell_type": "markdown",
   "metadata": {},
   "source": [
    "![Screenshot_Leaderboard.png](Screenshot_Leaderboard.png)"
   ]
  }
 ],
 "metadata": {
  "kernelspec": {
   "display_name": "base",
   "language": "python",
   "name": "python3"
  },
  "language_info": {
   "codemirror_mode": {
    "name": "ipython",
    "version": 3
   },
   "file_extension": ".py",
   "mimetype": "text/x-python",
   "name": "python",
   "nbconvert_exporter": "python",
   "pygments_lexer": "ipython3",
   "version": "3.12.7"
  }
 },
 "nbformat": 4,
 "nbformat_minor": 2
}
