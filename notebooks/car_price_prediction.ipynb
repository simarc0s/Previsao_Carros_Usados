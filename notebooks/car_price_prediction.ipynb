{
 "cells": [
  {
   "cell_type": "markdown",
   "metadata": {},
   "source": [
    "# Previsão de Preços de Carros Usados\n",
    "\n",
    "Este notebook implementa algoritmos de Machine Learning para prever os preços de carros usados baseado no dataset fornecido pela competição Kaggle."
   ]
  },
  {
   "cell_type": "code",
   "execution_count": null,
   "metadata": {},
   "outputs": [],
   "source": [
    "import os\n",
    "import sys\n",
    "\n",
    "# Adicionar o diretório base do projeto ao sys.path\n",
    "sys.path.append(os.path.abspath(\"..\"))\n",
    "\n",
    "# Importar bibliotecas principais\n",
    "import pandas as pd\n",
    "\n",
    "from scripts.evaluate import evaluate_model\n",
    "from scripts.preprocessing import preprocess_data\n",
    "from scripts.train_model import train_models\n",
    "\n",
    "# Carregar os dados\n",
    "train_data = pd.read_csv(\"../data/train.csv\")\n",
    "test_data = pd.read_csv(\"../data/test.csv\")\n",
    "\n",
    "# Pré-processamento\n",
    "X_train, y_train, X_val, y_val, X_test = preprocess_data(\n",
    "    train_data, test_data, target_column=\"price\", test_size=0.8\n",
    ")\n",
    "\n",
    "# Treinamento de modelos\n",
    "models = train_models(X_train, y_train)\n",
    "\n",
    "# Avaliação\n",
    "for model_name, model in models.items():\n",
    "    print(f\"Resultados no conjunto de treino para o modelo {model_name}:\")\n",
    "    evaluate_model(model, X_train, y_train)\n",
    "\n",
    "    if X_val is not None and y_val is not None:\n",
    "        print(f\"Resultados no conjunto de validação para o modelo {model_name}:\")\n",
    "        evaluate_model(model, X_val, y_val)\n",
    "\n",
    "# Submissão\n",
    "predictions = models[\"Random Forest\"].predict(X_test)\n",
    "submission = pd.DataFrame(\n",
    "    {\n",
    "        \"id\": test_data[\"id\"],\n",
    "        \"price\": predictions,\n",
    "    }\n",
    ")\n",
    "\n",
    "submission.to_csv(\"submission.csv\", index=False)\n",
    "print(\"Submissão guardada como 'submission.csv'.\")"
   ]
  }
 ],
 "metadata": {
  "kernelspec": {
   "display_name": "base",
   "language": "python",
   "name": "python3"
  },
  "language_info": {
   "codemirror_mode": {
    "name": "ipython",
    "version": 3
   },
   "file_extension": ".py",
   "mimetype": "text/x-python",
   "name": "python",
   "nbconvert_exporter": "python",
   "pygments_lexer": "ipython3",
   "version": "3.12.7"
  }
 },
 "nbformat": 4,
 "nbformat_minor": 2
}
